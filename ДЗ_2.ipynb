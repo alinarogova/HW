{
  "nbformat": 4,
  "nbformat_minor": 0,
  "metadata": {
    "colab": {
      "provenance": [],
      "toc_visible": true,
      "include_colab_link": true
    },
    "kernelspec": {
      "name": "python3",
      "display_name": "Python 3"
    },
    "language_info": {
      "name": "python"
    }
  },
  "cells": [
    {
      "cell_type": "markdown",
      "metadata": {
        "id": "view-in-github",
        "colab_type": "text"
      },
      "source": [
        "<a href=\"https://colab.research.google.com/github/alinarogova/HW/blob/master/%D0%94%D0%97_2.ipynb\" target=\"_parent\"><img src=\"https://colab.research.google.com/assets/colab-badge.svg\" alt=\"Open In Colab\"/></a>"
      ]
    },
    {
      "cell_type": "markdown",
      "source": [
        "Імпортуйте модуль numpy"
      ],
      "metadata": {
        "id": "tk2sNnUDkXK9"
      }
    },
    {
      "cell_type": "code",
      "source": [
        "import numpy as np"
      ],
      "metadata": {
        "id": "1QbCsQ62kUmZ"
      },
      "execution_count": 4,
      "outputs": []
    },
    {
      "cell_type": "markdown",
      "source": [
        "#Завдання 1\n",
        "\n",
        "Створіть масив з парними числами між 30 і 70"
      ],
      "metadata": {
        "id": "ZVC4Yb3JZFO1"
      }
    },
    {
      "cell_type": "code",
      "source": [
        "x = np.array(range(30, 71, 2))\n",
        "x"
      ],
      "metadata": {
        "id": "aunm4Jm_hUkL",
        "outputId": "098167f4-1350-4f53-a824-ac9f3ce2f06d",
        "colab": {
          "base_uri": "https://localhost:8080/"
        }
      },
      "execution_count": 2,
      "outputs": [
        {
          "output_type": "execute_result",
          "data": {
            "text/plain": [
              "array([30, 32, 34, 36, 38, 40, 42, 44, 46, 48, 50, 52, 54, 56, 58, 60, 62,\n",
              "       64, 66, 68, 70])"
            ]
          },
          "metadata": {},
          "execution_count": 2
        }
      ]
    },
    {
      "cell_type": "markdown",
      "source": [
        "#Завдання 2\n",
        "Створіть масив з 10 числами між 0(включно) та 1(не включно) див документацію np.linspace"
      ],
      "metadata": {
        "id": "UDSLr3f0b31r"
      }
    },
    {
      "cell_type": "code",
      "source": [
        "x = np.linspace(0, 1, 10, endpoint=False)\n",
        "x"
      ],
      "metadata": {
        "id": "w7iNkGd_hUM-",
        "outputId": "9ae8623c-ceb6-462e-a21c-01614c8ec975",
        "colab": {
          "base_uri": "https://localhost:8080/"
        }
      },
      "execution_count": 3,
      "outputs": [
        {
          "output_type": "execute_result",
          "data": {
            "text/plain": [
              "array([0. , 0.1, 0.2, 0.3, 0.4, 0.5, 0.6, 0.7, 0.8, 0.9])"
            ]
          },
          "metadata": {},
          "execution_count": 3
        }
      ]
    },
    {
      "cell_type": "markdown",
      "source": [
        "#Завдання 4\n",
        "Напишіть функцію яка приймає матрицю розміру nxn та повертає матрицю розміру (n+2) x (n+2), на краях якої розміщенні 0."
      ],
      "metadata": {
        "id": "rtWKmLWhYi_j"
      }
    },
    {
      "cell_type": "code",
      "source": [
        "n = 2\n",
        "x = np.array(range(1, 5)).reshape(2,2)\n",
        "print(x)\n",
        "\n",
        "def padding(matrix):\n",
        "  n = matrix.shape[0]\n",
        "  new_shape = (n+2, n+2)\n",
        "  res_matrix = np.zeros(new_shape, dtype=matrix.dtype)\n",
        "  res_matrix[1:-1, 1:-1] = matrix\n",
        "  return res_matrix\n",
        "y = padding(x)\n",
        "print(y)"
      ],
      "metadata": {
        "id": "mU7vjsnqhVfk",
        "colab": {
          "base_uri": "https://localhost:8080/"
        },
        "outputId": "9fe548f4-ada1-4f31-d053-d0efb58e8c85"
      },
      "execution_count": 4,
      "outputs": [
        {
          "output_type": "stream",
          "name": "stdout",
          "text": [
            "[[1 2]\n",
            " [3 4]]\n",
            "[[0 0 0 0]\n",
            " [0 1 2 0]\n",
            " [0 3 4 0]\n",
            " [0 0 0 0]]\n"
          ]
        }
      ]
    },
    {
      "cell_type": "markdown",
      "source": [
        "#Завдання 5\n",
        "У попередьньому масиві змініть тип даних. Виведіть тип даних до та після зміни"
      ],
      "metadata": {
        "id": "ok_hMAEJa9oh"
      }
    },
    {
      "cell_type": "code",
      "source": [
        "print(\"Було:\", y.dtype)\n",
        "y = y.astype(np.float64)\n",
        "print(\"Стало:\", y.dtype)"
      ],
      "metadata": {
        "id": "vYlj3r3ShV98",
        "outputId": "37515683-aaa6-4c9e-e4d6-22f593c8e45c",
        "colab": {
          "base_uri": "https://localhost:8080/"
        }
      },
      "execution_count": 5,
      "outputs": [
        {
          "output_type": "stream",
          "name": "stdout",
          "text": [
            "Було: int64\n",
            "Стало: float64\n"
          ]
        }
      ]
    },
    {
      "cell_type": "markdown",
      "source": [
        "#Завдання 6\n",
        "У даному масиві замініть елементи, які дорівнюють\\більші\\менші за var на -1"
      ],
      "metadata": {
        "id": "aR7TWyqgZUDg"
      }
    },
    {
      "cell_type": "code",
      "source": [
        "x = np.array([1, 5, 3, 8, 6, 5, 7, 4])\n",
        "var = 5\n",
        "x_eq = np.where(x == var, -1, x)\n",
        "x_more = np.where(x > var, -1, x)\n",
        "x_less = np.where(x < var, -1, x)\n",
        "print(x_eq, x_more, x_less)\n"
      ],
      "metadata": {
        "id": "oPzL69Fbg2Wq",
        "outputId": "ab8af94d-3b8c-4886-d072-1a7bd26ed6c1",
        "colab": {
          "base_uri": "https://localhost:8080/"
        }
      },
      "execution_count": 8,
      "outputs": [
        {
          "output_type": "stream",
          "name": "stdout",
          "text": [
            "[ 1 -1  3  8  6 -1  7  4] [ 1  5  3 -1 -1  5 -1  4] [-1  5 -1  8  6  5  7 -1]\n"
          ]
        }
      ]
    },
    {
      "cell_type": "code",
      "source": [
        "x[x==var]=-1\n",
        "x"
      ],
      "metadata": {
        "id": "X1JtOFpyzqSC",
        "outputId": "8cbc5a42-73bd-4726-c86a-75b5b4cc9109",
        "colab": {
          "base_uri": "https://localhost:8080/"
        }
      },
      "execution_count": 7,
      "outputs": [
        {
          "output_type": "execute_result",
          "data": {
            "text/plain": [
              "array([ 1, -1,  3,  8,  6, -1,  7,  4])"
            ]
          },
          "metadata": {},
          "execution_count": 7
        }
      ]
    },
    {
      "cell_type": "code",
      "source": [
        "x[x>var]=-1\n",
        "x"
      ],
      "metadata": {
        "id": "rZcYNoVizubx",
        "outputId": "99a8fa29-e62f-4448-d7cf-0b4b15227ed1",
        "colab": {
          "base_uri": "https://localhost:8080/"
        }
      },
      "execution_count": 9,
      "outputs": [
        {
          "output_type": "execute_result",
          "data": {
            "text/plain": [
              "array([ 1,  5,  3, -1, -1,  5, -1,  4])"
            ]
          },
          "metadata": {},
          "execution_count": 9
        }
      ]
    },
    {
      "cell_type": "code",
      "source": [
        "x[x<var]=-1\n",
        "x"
      ],
      "metadata": {
        "id": "KVLZ0UorzuP5",
        "outputId": "f0dd70a9-58ae-45d9-95e0-d07399ebef3e",
        "colab": {
          "base_uri": "https://localhost:8080/"
        }
      },
      "execution_count": 10,
      "outputs": [
        {
          "output_type": "execute_result",
          "data": {
            "text/plain": [
              "array([-1,  5, -1, -1, -1,  5, -1, -1])"
            ]
          },
          "metadata": {},
          "execution_count": 10
        }
      ]
    },
    {
      "cell_type": "markdown",
      "source": [
        "#Завдання 7\n",
        "Замініть пропущені значення матриці(np.nan) на -1\n",
        "\n",
        "Дивись np.isnan"
      ],
      "metadata": {
        "id": "Ks3Rtc7kajMJ"
      }
    },
    {
      "cell_type": "code",
      "source": [
        "X = np.array([[1, 2, np.nan, 4],\n",
        "              [5, np.nan, np.nan, 4],\n",
        "              [np.nan, 10, 11, np.nan]])\n",
        "X[np.isnan(X)]=-1\n",
        "X"
      ],
      "metadata": {
        "id": "Rr8CdINEg3Rj",
        "outputId": "00c36797-4e07-410c-daa1-3e51d892387d",
        "colab": {
          "base_uri": "https://localhost:8080/"
        }
      },
      "execution_count": 11,
      "outputs": [
        {
          "output_type": "execute_result",
          "data": {
            "text/plain": [
              "array([[ 1.,  2., -1.,  4.],\n",
              "       [ 5., -1., -1.,  4.],\n",
              "       [-1., 10., 11., -1.]])"
            ]
          },
          "metadata": {},
          "execution_count": 11
        }
      ]
    },
    {
      "cell_type": "markdown",
      "source": [
        "#Завдання 8\n",
        "Створіть матрицю розміру 4х6 з випадковими числами. Змініть її розмір на 3х8"
      ],
      "metadata": {
        "id": "teYwjikMa0gs"
      }
    },
    {
      "cell_type": "code",
      "source": [
        "x = np.random.randint(0, 100, (4,6))\n",
        "x = x.reshape((3, 8))\n",
        "x"
      ],
      "metadata": {
        "id": "JhNvUJwxhXED",
        "outputId": "580431ad-eb59-4777-dc4d-a33cdcc2c457",
        "colab": {
          "base_uri": "https://localhost:8080/"
        }
      },
      "execution_count": 12,
      "outputs": [
        {
          "output_type": "execute_result",
          "data": {
            "text/plain": [
              "array([[94, 12, 75, 42, 31, 80, 35, 82],\n",
              "       [98, 94,  7, 19,  7, 42, 53,  7],\n",
              "       [92,  6, 38, 35, 67,  6, 96, 63]])"
            ]
          },
          "metadata": {},
          "execution_count": 12
        }
      ]
    },
    {
      "cell_type": "markdown",
      "source": [
        "#Завдання 9\n",
        "Створіть випадкову матрицю розміром 3х4. Знайдіть середнє арифметичне(mean) кожного стовпчика"
      ],
      "metadata": {
        "id": "jVE8280acszi"
      }
    },
    {
      "cell_type": "code",
      "source": [
        "x = np.random.randint(1, 10, (3,4))\n",
        "print(x)\n",
        "x.mean(axis=0)"
      ],
      "metadata": {
        "id": "5QI6HPNHhXd4",
        "outputId": "76fbf5b9-b3a7-4afe-e818-214ba392a243",
        "colab": {
          "base_uri": "https://localhost:8080/"
        }
      },
      "execution_count": 13,
      "outputs": [
        {
          "output_type": "stream",
          "name": "stdout",
          "text": [
            "[[5 4 1 3]\n",
            " [3 6 7 6]\n",
            " [7 6 1 2]]\n"
          ]
        },
        {
          "output_type": "execute_result",
          "data": {
            "text/plain": [
              "array([5.        , 5.33333333, 3.        , 3.66666667])"
            ]
          },
          "metadata": {},
          "execution_count": 13
        }
      ]
    },
    {
      "cell_type": "markdown",
      "source": [
        "#Завдання 10\n",
        "Є матриця з ймовірностями того, що зображення(рядки) належить певному класу(стовпчики). Для кожного зображення(рядка) знайдіть індекс класу(стовпчика) з найбільшою ймовірністю"
      ],
      "metadata": {
        "id": "nK6LwLjfc9aC"
      }
    },
    {
      "cell_type": "code",
      "source": [
        "x = np.array([[0.2 , 0.3 , 0.23, 0.07, 0.03, 0.17],\n",
        "              [0.15, 0.06, 0.21, 0.12, 0.24, 0.24],\n",
        "              [0.1 , 0.21, 0.03, 0.07, 0.31, 0.28],\n",
        "              [0.21, 0.24, 0.03, 0.18, 0.12, 0.21],\n",
        "              [0.19, 0.25, 0.25, 0.06, 0.12, 0.12]])\n",
        "x.max(axis=1)\n",
        "x.argmax(axis = 1)"
      ],
      "metadata": {
        "id": "pERBNp12hX58",
        "outputId": "325fc959-2607-4f86-a703-a9106fde534d",
        "colab": {
          "base_uri": "https://localhost:8080/"
        }
      },
      "execution_count": 17,
      "outputs": [
        {
          "output_type": "execute_result",
          "data": {
            "text/plain": [
              "array([1, 4, 4, 1, 1])"
            ]
          },
          "metadata": {},
          "execution_count": 17
        }
      ]
    },
    {
      "cell_type": "markdown",
      "source": [
        "Пояснення: в першому рядку найбільша ймовірність -- 0.3 під індексом 1\n",
        "\n",
        "в другому рядку -- 0.24 під індексом 4\n",
        "\n",
        "в третьому рядку -- 0.31 під індексом 4\n",
        "\n",
        "в четвертому рядку -- 0.24 під індексом 1\n",
        "\n",
        "в п'ятому рядку -- 0.25 під індексом 1(там є ще одне 0.25, але ми беремо те що з меншим індексом)\n"
      ],
      "metadata": {
        "id": "9aarGgUP2TaX"
      }
    },
    {
      "cell_type": "markdown",
      "source": [
        "#Завдання 11\n",
        "В даній матриці знайдіть всі елементи зі значенням між 3 і 6\n",
        "\n",
        "Дивись документацію np.logical_and"
      ],
      "metadata": {
        "id": "faCqq4bxiXsg"
      }
    },
    {
      "cell_type": "code",
      "source": [
        "X = np.array([[1, 2, 3, 4, 5],\n",
        "              [6, 7, 8, 9, 10],\n",
        "              [9, 8, 7, 6, 5],\n",
        "              [4, 3, 2, 1, 0]])\n",
        "X[(X>3) & (X<6)]"
      ],
      "metadata": {
        "id": "01ZY_c-tilOF",
        "outputId": "916407a5-8de6-494b-ab7f-ac13be9a55b6",
        "colab": {
          "base_uri": "https://localhost:8080/"
        }
      },
      "execution_count": 20,
      "outputs": [
        {
          "output_type": "execute_result",
          "data": {
            "text/plain": [
              "array([4, 5, 5, 4])"
            ]
          },
          "metadata": {},
          "execution_count": 20
        }
      ]
    },
    {
      "cell_type": "markdown",
      "source": [
        "#Завдання 12\n",
        "Створіть випадкову матрицю розміру 5х6. Нормалізуйте стовпчики: від кожного елемента ставпчика відніміть мінімальне значення та поділіть результат на різницю між максимальним та мінімальним елементом цього стовпчика.\n",
        "\n",
        "Після цього всі значення мають бути в межах [0, 1]"
      ],
      "metadata": {
        "id": "cCZSaa3DMKxb"
      }
    },
    {
      "cell_type": "code",
      "source": [
        "x=np.random.randint(1, 10, (5, 6))\n",
        "x"
      ],
      "metadata": {
        "id": "qnOYOAgOMqRi",
        "outputId": "16b30eaa-07ea-43b0-feca-f86b3b6b07e1",
        "colab": {
          "base_uri": "https://localhost:8080/"
        }
      },
      "execution_count": 5,
      "outputs": [
        {
          "output_type": "execute_result",
          "data": {
            "text/plain": [
              "array([[8, 6, 7, 8, 6, 8],\n",
              "       [3, 1, 6, 2, 4, 1],\n",
              "       [1, 9, 1, 1, 6, 2],\n",
              "       [8, 3, 8, 9, 9, 2],\n",
              "       [5, 8, 3, 2, 2, 2]])"
            ]
          },
          "metadata": {},
          "execution_count": 5
        }
      ]
    },
    {
      "cell_type": "code",
      "source": [
        "x_min=x.min(axis=0 ,keepdims = True)\n",
        "x_min"
      ],
      "metadata": {
        "id": "d60tOdfg0vn2",
        "outputId": "dfb3fb7c-a678-4199-c4b0-126e807076cf",
        "colab": {
          "base_uri": "https://localhost:8080/"
        }
      },
      "execution_count": 8,
      "outputs": [
        {
          "output_type": "execute_result",
          "data": {
            "text/plain": [
              "array([[1, 1, 1, 1, 2, 1]])"
            ]
          },
          "metadata": {},
          "execution_count": 8
        }
      ]
    },
    {
      "cell_type": "code",
      "source": [
        "(x-x_min)/(x.max(axis=0 ,keepdims = True)-x_min)"
      ],
      "metadata": {
        "id": "JYRA-ED_JO8w",
        "outputId": "677d592b-c61b-4ce6-ff39-8304e596c299",
        "colab": {
          "base_uri": "https://localhost:8080/"
        }
      },
      "execution_count": 9,
      "outputs": [
        {
          "output_type": "execute_result",
          "data": {
            "text/plain": [
              "array([[1.        , 0.625     , 0.85714286, 0.875     , 0.57142857,\n",
              "        1.        ],\n",
              "       [0.28571429, 0.        , 0.71428571, 0.125     , 0.28571429,\n",
              "        0.        ],\n",
              "       [0.        , 1.        , 0.        , 0.        , 0.57142857,\n",
              "        0.14285714],\n",
              "       [1.        , 0.25      , 1.        , 1.        , 1.        ,\n",
              "        0.14285714],\n",
              "       [0.57142857, 0.875     , 0.28571429, 0.125     , 0.        ,\n",
              "        0.14285714]])"
            ]
          },
          "metadata": {},
          "execution_count": 9
        }
      ]
    }
  ]
}