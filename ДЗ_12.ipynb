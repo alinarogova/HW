{
  "nbformat": 4,
  "nbformat_minor": 0,
  "metadata": {
    "colab": {
      "provenance": [],
      "toc_visible": true,
      "include_colab_link": true
    },
    "kernelspec": {
      "name": "python3",
      "display_name": "Python 3"
    },
    "language_info": {
      "name": "python"
    }
  },
  "cells": [
    {
      "cell_type": "markdown",
      "metadata": {
        "id": "view-in-github",
        "colab_type": "text"
      },
      "source": [
        "<a href=\"https://colab.research.google.com/github/alinarogova/HW/blob/master/%D0%94%D0%97_12.ipynb\" target=\"_parent\"><img src=\"https://colab.research.google.com/assets/colab-badge.svg\" alt=\"Open In Colab\"/></a>"
      ]
    },
    {
      "cell_type": "markdown",
      "source": [
        "Імпорт модулів"
      ],
      "metadata": {
        "id": "w1r0k1UheNCz"
      }
    },
    {
      "cell_type": "code",
      "execution_count": 11,
      "metadata": {
        "id": "4XxgJqCDoExm"
      },
      "outputs": [],
      "source": [
        "import pandas as pd"
      ]
    },
    {
      "cell_type": "markdown",
      "source": [
        "Дані медичне страхування"
      ],
      "metadata": {
        "id": "Kpk2KycTeQEE"
      }
    },
    {
      "cell_type": "code",
      "source": [
        "# трохи обробки даних\n",
        "df = pd.read_csv('https://raw.githubusercontent.com/HalyshAnton/IT-Step-Pyton-AI/main/module3/data/insurance.csv')\n",
        "\n",
        "df['sex'] = df['sex'].map({'male': 0, 'female':1})\n",
        "df['smoker'] = df['smoker'].map({'no': 0, 'yes':1})\n",
        "\n",
        "df = df.drop(columns=['region'])\n",
        "\n",
        "data = df[['age', 'bmi', 'expenses']]\n",
        "df[['age', 'bmi', 'expenses']] = (data - data.min()) / (data.max() - data.min())"
      ],
      "metadata": {
        "id": "926S2f5pdnH6"
      },
      "execution_count": 12,
      "outputs": []
    },
    {
      "cell_type": "code",
      "source": [
        "df.head()"
      ],
      "metadata": {
        "colab": {
          "base_uri": "https://localhost:8080/",
          "height": 206
        },
        "id": "eG6_dawddqwd",
        "outputId": "8c5c02cd-da5f-4c0f-f6df-a96ea0f80c40"
      },
      "execution_count": 13,
      "outputs": [
        {
          "output_type": "execute_result",
          "data": {
            "text/plain": [
              "        age  sex       bmi  children  smoker  expenses\n",
              "0  0.021739    1  0.320755         0       1  0.251611\n",
              "1  0.000000    0  0.479784         1       0  0.009636\n",
              "2  0.217391    0  0.458221         3       0  0.053115\n",
              "3  0.326087    0  0.180593         0       0  0.333010\n",
              "4  0.304348    0  0.347709         0       0  0.043816"
            ],
            "text/html": [
              "\n",
              "  <div id=\"df-964dc0da-0786-43af-91a8-ad9b9be0f83d\" class=\"colab-df-container\">\n",
              "    <div>\n",
              "<style scoped>\n",
              "    .dataframe tbody tr th:only-of-type {\n",
              "        vertical-align: middle;\n",
              "    }\n",
              "\n",
              "    .dataframe tbody tr th {\n",
              "        vertical-align: top;\n",
              "    }\n",
              "\n",
              "    .dataframe thead th {\n",
              "        text-align: right;\n",
              "    }\n",
              "</style>\n",
              "<table border=\"1\" class=\"dataframe\">\n",
              "  <thead>\n",
              "    <tr style=\"text-align: right;\">\n",
              "      <th></th>\n",
              "      <th>age</th>\n",
              "      <th>sex</th>\n",
              "      <th>bmi</th>\n",
              "      <th>children</th>\n",
              "      <th>smoker</th>\n",
              "      <th>expenses</th>\n",
              "    </tr>\n",
              "  </thead>\n",
              "  <tbody>\n",
              "    <tr>\n",
              "      <th>0</th>\n",
              "      <td>0.021739</td>\n",
              "      <td>1</td>\n",
              "      <td>0.320755</td>\n",
              "      <td>0</td>\n",
              "      <td>1</td>\n",
              "      <td>0.251611</td>\n",
              "    </tr>\n",
              "    <tr>\n",
              "      <th>1</th>\n",
              "      <td>0.000000</td>\n",
              "      <td>0</td>\n",
              "      <td>0.479784</td>\n",
              "      <td>1</td>\n",
              "      <td>0</td>\n",
              "      <td>0.009636</td>\n",
              "    </tr>\n",
              "    <tr>\n",
              "      <th>2</th>\n",
              "      <td>0.217391</td>\n",
              "      <td>0</td>\n",
              "      <td>0.458221</td>\n",
              "      <td>3</td>\n",
              "      <td>0</td>\n",
              "      <td>0.053115</td>\n",
              "    </tr>\n",
              "    <tr>\n",
              "      <th>3</th>\n",
              "      <td>0.326087</td>\n",
              "      <td>0</td>\n",
              "      <td>0.180593</td>\n",
              "      <td>0</td>\n",
              "      <td>0</td>\n",
              "      <td>0.333010</td>\n",
              "    </tr>\n",
              "    <tr>\n",
              "      <th>4</th>\n",
              "      <td>0.304348</td>\n",
              "      <td>0</td>\n",
              "      <td>0.347709</td>\n",
              "      <td>0</td>\n",
              "      <td>0</td>\n",
              "      <td>0.043816</td>\n",
              "    </tr>\n",
              "  </tbody>\n",
              "</table>\n",
              "</div>\n",
              "    <div class=\"colab-df-buttons\">\n",
              "\n",
              "  <div class=\"colab-df-container\">\n",
              "    <button class=\"colab-df-convert\" onclick=\"convertToInteractive('df-964dc0da-0786-43af-91a8-ad9b9be0f83d')\"\n",
              "            title=\"Convert this dataframe to an interactive table.\"\n",
              "            style=\"display:none;\">\n",
              "\n",
              "  <svg xmlns=\"http://www.w3.org/2000/svg\" height=\"24px\" viewBox=\"0 -960 960 960\">\n",
              "    <path d=\"M120-120v-720h720v720H120Zm60-500h600v-160H180v160Zm220 220h160v-160H400v160Zm0 220h160v-160H400v160ZM180-400h160v-160H180v160Zm440 0h160v-160H620v160ZM180-180h160v-160H180v160Zm440 0h160v-160H620v160Z\"/>\n",
              "  </svg>\n",
              "    </button>\n",
              "\n",
              "  <style>\n",
              "    .colab-df-container {\n",
              "      display:flex;\n",
              "      gap: 12px;\n",
              "    }\n",
              "\n",
              "    .colab-df-convert {\n",
              "      background-color: #E8F0FE;\n",
              "      border: none;\n",
              "      border-radius: 50%;\n",
              "      cursor: pointer;\n",
              "      display: none;\n",
              "      fill: #1967D2;\n",
              "      height: 32px;\n",
              "      padding: 0 0 0 0;\n",
              "      width: 32px;\n",
              "    }\n",
              "\n",
              "    .colab-df-convert:hover {\n",
              "      background-color: #E2EBFA;\n",
              "      box-shadow: 0px 1px 2px rgba(60, 64, 67, 0.3), 0px 1px 3px 1px rgba(60, 64, 67, 0.15);\n",
              "      fill: #174EA6;\n",
              "    }\n",
              "\n",
              "    .colab-df-buttons div {\n",
              "      margin-bottom: 4px;\n",
              "    }\n",
              "\n",
              "    [theme=dark] .colab-df-convert {\n",
              "      background-color: #3B4455;\n",
              "      fill: #D2E3FC;\n",
              "    }\n",
              "\n",
              "    [theme=dark] .colab-df-convert:hover {\n",
              "      background-color: #434B5C;\n",
              "      box-shadow: 0px 1px 3px 1px rgba(0, 0, 0, 0.15);\n",
              "      filter: drop-shadow(0px 1px 2px rgba(0, 0, 0, 0.3));\n",
              "      fill: #FFFFFF;\n",
              "    }\n",
              "  </style>\n",
              "\n",
              "    <script>\n",
              "      const buttonEl =\n",
              "        document.querySelector('#df-964dc0da-0786-43af-91a8-ad9b9be0f83d button.colab-df-convert');\n",
              "      buttonEl.style.display =\n",
              "        google.colab.kernel.accessAllowed ? 'block' : 'none';\n",
              "\n",
              "      async function convertToInteractive(key) {\n",
              "        const element = document.querySelector('#df-964dc0da-0786-43af-91a8-ad9b9be0f83d');\n",
              "        const dataTable =\n",
              "          await google.colab.kernel.invokeFunction('convertToInteractive',\n",
              "                                                    [key], {});\n",
              "        if (!dataTable) return;\n",
              "\n",
              "        const docLinkHtml = 'Like what you see? Visit the ' +\n",
              "          '<a target=\"_blank\" href=https://colab.research.google.com/notebooks/data_table.ipynb>data table notebook</a>'\n",
              "          + ' to learn more about interactive tables.';\n",
              "        element.innerHTML = '';\n",
              "        dataTable['output_type'] = 'display_data';\n",
              "        await google.colab.output.renderOutput(dataTable, element);\n",
              "        const docLink = document.createElement('div');\n",
              "        docLink.innerHTML = docLinkHtml;\n",
              "        element.appendChild(docLink);\n",
              "      }\n",
              "    </script>\n",
              "  </div>\n",
              "\n",
              "\n",
              "<div id=\"df-26054c0f-156b-41a9-bac4-7dbef0bc7972\">\n",
              "  <button class=\"colab-df-quickchart\" onclick=\"quickchart('df-26054c0f-156b-41a9-bac4-7dbef0bc7972')\"\n",
              "            title=\"Suggest charts\"\n",
              "            style=\"display:none;\">\n",
              "\n",
              "<svg xmlns=\"http://www.w3.org/2000/svg\" height=\"24px\"viewBox=\"0 0 24 24\"\n",
              "     width=\"24px\">\n",
              "    <g>\n",
              "        <path d=\"M19 3H5c-1.1 0-2 .9-2 2v14c0 1.1.9 2 2 2h14c1.1 0 2-.9 2-2V5c0-1.1-.9-2-2-2zM9 17H7v-7h2v7zm4 0h-2V7h2v10zm4 0h-2v-4h2v4z\"/>\n",
              "    </g>\n",
              "</svg>\n",
              "  </button>\n",
              "\n",
              "<style>\n",
              "  .colab-df-quickchart {\n",
              "      --bg-color: #E8F0FE;\n",
              "      --fill-color: #1967D2;\n",
              "      --hover-bg-color: #E2EBFA;\n",
              "      --hover-fill-color: #174EA6;\n",
              "      --disabled-fill-color: #AAA;\n",
              "      --disabled-bg-color: #DDD;\n",
              "  }\n",
              "\n",
              "  [theme=dark] .colab-df-quickchart {\n",
              "      --bg-color: #3B4455;\n",
              "      --fill-color: #D2E3FC;\n",
              "      --hover-bg-color: #434B5C;\n",
              "      --hover-fill-color: #FFFFFF;\n",
              "      --disabled-bg-color: #3B4455;\n",
              "      --disabled-fill-color: #666;\n",
              "  }\n",
              "\n",
              "  .colab-df-quickchart {\n",
              "    background-color: var(--bg-color);\n",
              "    border: none;\n",
              "    border-radius: 50%;\n",
              "    cursor: pointer;\n",
              "    display: none;\n",
              "    fill: var(--fill-color);\n",
              "    height: 32px;\n",
              "    padding: 0;\n",
              "    width: 32px;\n",
              "  }\n",
              "\n",
              "  .colab-df-quickchart:hover {\n",
              "    background-color: var(--hover-bg-color);\n",
              "    box-shadow: 0 1px 2px rgba(60, 64, 67, 0.3), 0 1px 3px 1px rgba(60, 64, 67, 0.15);\n",
              "    fill: var(--button-hover-fill-color);\n",
              "  }\n",
              "\n",
              "  .colab-df-quickchart-complete:disabled,\n",
              "  .colab-df-quickchart-complete:disabled:hover {\n",
              "    background-color: var(--disabled-bg-color);\n",
              "    fill: var(--disabled-fill-color);\n",
              "    box-shadow: none;\n",
              "  }\n",
              "\n",
              "  .colab-df-spinner {\n",
              "    border: 2px solid var(--fill-color);\n",
              "    border-color: transparent;\n",
              "    border-bottom-color: var(--fill-color);\n",
              "    animation:\n",
              "      spin 1s steps(1) infinite;\n",
              "  }\n",
              "\n",
              "  @keyframes spin {\n",
              "    0% {\n",
              "      border-color: transparent;\n",
              "      border-bottom-color: var(--fill-color);\n",
              "      border-left-color: var(--fill-color);\n",
              "    }\n",
              "    20% {\n",
              "      border-color: transparent;\n",
              "      border-left-color: var(--fill-color);\n",
              "      border-top-color: var(--fill-color);\n",
              "    }\n",
              "    30% {\n",
              "      border-color: transparent;\n",
              "      border-left-color: var(--fill-color);\n",
              "      border-top-color: var(--fill-color);\n",
              "      border-right-color: var(--fill-color);\n",
              "    }\n",
              "    40% {\n",
              "      border-color: transparent;\n",
              "      border-right-color: var(--fill-color);\n",
              "      border-top-color: var(--fill-color);\n",
              "    }\n",
              "    60% {\n",
              "      border-color: transparent;\n",
              "      border-right-color: var(--fill-color);\n",
              "    }\n",
              "    80% {\n",
              "      border-color: transparent;\n",
              "      border-right-color: var(--fill-color);\n",
              "      border-bottom-color: var(--fill-color);\n",
              "    }\n",
              "    90% {\n",
              "      border-color: transparent;\n",
              "      border-bottom-color: var(--fill-color);\n",
              "    }\n",
              "  }\n",
              "</style>\n",
              "\n",
              "  <script>\n",
              "    async function quickchart(key) {\n",
              "      const quickchartButtonEl =\n",
              "        document.querySelector('#' + key + ' button');\n",
              "      quickchartButtonEl.disabled = true;  // To prevent multiple clicks.\n",
              "      quickchartButtonEl.classList.add('colab-df-spinner');\n",
              "      try {\n",
              "        const charts = await google.colab.kernel.invokeFunction(\n",
              "            'suggestCharts', [key], {});\n",
              "      } catch (error) {\n",
              "        console.error('Error during call to suggestCharts:', error);\n",
              "      }\n",
              "      quickchartButtonEl.classList.remove('colab-df-spinner');\n",
              "      quickchartButtonEl.classList.add('colab-df-quickchart-complete');\n",
              "    }\n",
              "    (() => {\n",
              "      let quickchartButtonEl =\n",
              "        document.querySelector('#df-26054c0f-156b-41a9-bac4-7dbef0bc7972 button');\n",
              "      quickchartButtonEl.style.display =\n",
              "        google.colab.kernel.accessAllowed ? 'block' : 'none';\n",
              "    })();\n",
              "  </script>\n",
              "</div>\n",
              "    </div>\n",
              "  </div>\n"
            ],
            "application/vnd.google.colaboratory.intrinsic+json": {
              "type": "dataframe",
              "variable_name": "df",
              "summary": "{\n  \"name\": \"df\",\n  \"rows\": 1338,\n  \"fields\": [\n    {\n      \"column\": \"age\",\n      \"properties\": {\n        \"dtype\": \"number\",\n        \"std\": 0.30543392128730656,\n        \"min\": 0.0,\n        \"max\": 1.0,\n        \"num_unique_values\": 47,\n        \"samples\": [\n          0.06521739130434782,\n          0.5869565217391305,\n          0.391304347826087\n        ],\n        \"semantic_type\": \"\",\n        \"description\": \"\"\n      }\n    },\n    {\n      \"column\": \"sex\",\n      \"properties\": {\n        \"dtype\": \"number\",\n        \"std\": 0,\n        \"min\": 0,\n        \"max\": 1,\n        \"num_unique_values\": 2,\n        \"samples\": [\n          0,\n          1\n        ],\n        \"semantic_type\": \"\",\n        \"description\": \"\"\n      }\n    },\n    {\n      \"column\": \"bmi\",\n      \"properties\": {\n        \"dtype\": \"number\",\n        \"std\": 0.16437687843674842,\n        \"min\": 0.0,\n        \"max\": 1.0,\n        \"num_unique_values\": 275,\n        \"samples\": [\n          0.339622641509434,\n          0.13207547169811315\n        ],\n        \"semantic_type\": \"\",\n        \"description\": \"\"\n      }\n    },\n    {\n      \"column\": \"children\",\n      \"properties\": {\n        \"dtype\": \"number\",\n        \"std\": 1,\n        \"min\": 0,\n        \"max\": 5,\n        \"num_unique_values\": 6,\n        \"samples\": [\n          0,\n          1\n        ],\n        \"semantic_type\": \"\",\n        \"description\": \"\"\n      }\n    },\n    {\n      \"column\": \"smoker\",\n      \"properties\": {\n        \"dtype\": \"number\",\n        \"std\": 0,\n        \"min\": 0,\n        \"max\": 1,\n        \"num_unique_values\": 2,\n        \"samples\": [\n          0,\n          1\n        ],\n        \"semantic_type\": \"\",\n        \"description\": \"\"\n      }\n    },\n    {\n      \"column\": \"expenses\",\n      \"properties\": {\n        \"dtype\": \"number\",\n        \"std\": 0.1933007117754418,\n        \"min\": 0.0,\n        \"max\": 1.0,\n        \"num_unique_values\": 1337,\n        \"samples\": [\n          0.12078473950558483,\n          0.07321796382869775\n        ],\n        \"semantic_type\": \"\",\n        \"description\": \"\"\n      }\n    }\n  ]\n}"
            }
          },
          "metadata": {},
          "execution_count": 13
        }
      ]
    },
    {
      "cell_type": "markdown",
      "source": [
        "Потрібно на основі інформації людини спрогнозувати розмір її страховки `expenses`"
      ],
      "metadata": {
        "id": "KAmkR_CFejgQ"
      }
    },
    {
      "cell_type": "markdown",
      "source": [
        "# Завдання 1\n",
        "Створіть клас Dataset"
      ],
      "metadata": {
        "id": "dBt0E5BJe6OK"
      }
    },
    {
      "cell_type": "code",
      "source": [
        "import torch\n",
        "\n",
        "device = \"cuda\" if torch.cuda.is_available() else \"cpu\"\n"
      ],
      "metadata": {
        "id": "vFtu1Wd1drwJ"
      },
      "execution_count": 14,
      "outputs": []
    },
    {
      "cell_type": "code",
      "source": [
        "X = df.drop(columns='expenses')\n",
        "y = df['expenses']"
      ],
      "metadata": {
        "id": "oxXy0Tx5Yca6"
      },
      "execution_count": 15,
      "outputs": []
    },
    {
      "cell_type": "code",
      "source": [
        "\n",
        "from torch.utils.data import Dataset\n",
        "\n",
        "class myDataset(Dataset):\n",
        "  def __init__(self, X, y):\n",
        "    super().__init__()\n",
        "    self.X = torch.tensor(X.values, dtype=torch.float32)\n",
        "    self.y = torch.tensor(y.values, dtype=torch.float32)\n",
        "    self.y = self.y.reshape(-1, 1)\n",
        "\n",
        "  def __len__(self):\n",
        "    return len(self.X)\n",
        "\n",
        "  def __getitem__(self, idx):\n",
        "    return self.X[idx], self.y[idx]\n",
        "\n",
        "data = myDataset(X, y)\n",
        "data[-1]"
      ],
      "metadata": {
        "id": "28NMEyMYXwwf",
        "outputId": "ca312b8a-d2a1-43a2-ee20-9dee7e983074",
        "colab": {
          "base_uri": "https://localhost:8080/"
        }
      },
      "execution_count": 19,
      "outputs": [
        {
          "output_type": "execute_result",
          "data": {
            "text/plain": [
              "(tensor([0.9348, 1.0000, 0.3531, 0.0000, 1.0000]), tensor([0.4472]))"
            ]
          },
          "metadata": {},
          "execution_count": 19
        }
      ]
    },
    {
      "cell_type": "markdown",
      "source": [
        "# Завдання 2\n",
        "Створіть DataLoader. Перевірте розміри даних в першому пакеті. Розмір пакетів оберіть самостійно"
      ],
      "metadata": {
        "id": "zQlB_6WzfB8n"
      }
    },
    {
      "cell_type": "code",
      "source": [
        "from torch.utils.data import DataLoader\n",
        "\n",
        "loader = DataLoader(data, batch_size = 32, shuffle=True)\n",
        "\n",
        "for X, y in loader:\n",
        "  print(X)\n",
        "  break\n",
        "X = X.to(device)\n",
        "X"
      ],
      "metadata": {
        "id": "-6-po4H4fZQy",
        "outputId": "b0fb971a-ca3c-4f54-cbf4-df273af01107",
        "colab": {
          "base_uri": "https://localhost:8080/"
        }
      },
      "execution_count": 23,
      "outputs": [
        {
          "output_type": "stream",
          "name": "stdout",
          "text": [
            "tensor([[0.8478, 1.0000, 0.4933, 2.0000, 0.0000],\n",
            "        [0.5000, 0.0000, 0.6550, 0.0000, 0.0000],\n",
            "        [0.0870, 0.0000, 0.5822, 1.0000, 1.0000],\n",
            "        [0.0000, 0.0000, 0.3369, 0.0000, 0.0000],\n",
            "        [0.0435, 0.0000, 0.3208, 0.0000, 0.0000],\n",
            "        [0.1304, 1.0000, 0.2857, 0.0000, 0.0000],\n",
            "        [0.0870, 0.0000, 0.2480, 0.0000, 0.0000],\n",
            "        [0.1957, 1.0000, 0.2372, 0.0000, 1.0000],\n",
            "        [0.0217, 1.0000, 0.3342, 1.0000, 0.0000],\n",
            "        [0.4565, 0.0000, 0.4879, 2.0000, 0.0000],\n",
            "        [0.5217, 1.0000, 0.2857, 0.0000, 1.0000],\n",
            "        [0.0000, 0.0000, 0.3612, 1.0000, 0.0000],\n",
            "        [0.1739, 1.0000, 0.0323, 2.0000, 1.0000],\n",
            "        [0.1957, 0.0000, 0.3369, 0.0000, 1.0000],\n",
            "        [0.3043, 0.0000, 0.5714, 2.0000, 0.0000],\n",
            "        [0.7826, 0.0000, 0.2561, 1.0000, 0.0000],\n",
            "        [0.6739, 0.0000, 0.3720, 1.0000, 0.0000],\n",
            "        [0.3913, 0.0000, 0.3693, 0.0000, 0.0000],\n",
            "        [0.8261, 1.0000, 0.3315, 0.0000, 0.0000],\n",
            "        [0.3043, 1.0000, 0.3477, 0.0000, 0.0000],\n",
            "        [0.6957, 0.0000, 0.4043, 3.0000, 0.0000],\n",
            "        [0.3913, 0.0000, 0.4960, 0.0000, 1.0000],\n",
            "        [0.7609, 0.0000, 0.3639, 0.0000, 0.0000],\n",
            "        [0.3043, 1.0000, 0.6765, 0.0000, 0.0000],\n",
            "        [0.5435, 1.0000, 0.4960, 3.0000, 0.0000],\n",
            "        [0.5217, 1.0000, 0.4636, 1.0000, 0.0000],\n",
            "        [0.0000, 1.0000, 0.5283, 0.0000, 0.0000],\n",
            "        [0.5870, 0.0000, 0.3423, 2.0000, 0.0000],\n",
            "        [0.6957, 1.0000, 0.2022, 2.0000, 0.0000],\n",
            "        [0.1304, 0.0000, 0.4501, 0.0000, 1.0000],\n",
            "        [0.2826, 0.0000, 0.4070, 3.0000, 0.0000],\n",
            "        [0.7174, 0.0000, 0.2534, 0.0000, 0.0000]])\n"
          ]
        },
        {
          "output_type": "execute_result",
          "data": {
            "text/plain": [
              "tensor([[0.8478, 1.0000, 0.4933, 2.0000, 0.0000],\n",
              "        [0.5000, 0.0000, 0.6550, 0.0000, 0.0000],\n",
              "        [0.0870, 0.0000, 0.5822, 1.0000, 1.0000],\n",
              "        [0.0000, 0.0000, 0.3369, 0.0000, 0.0000],\n",
              "        [0.0435, 0.0000, 0.3208, 0.0000, 0.0000],\n",
              "        [0.1304, 1.0000, 0.2857, 0.0000, 0.0000],\n",
              "        [0.0870, 0.0000, 0.2480, 0.0000, 0.0000],\n",
              "        [0.1957, 1.0000, 0.2372, 0.0000, 1.0000],\n",
              "        [0.0217, 1.0000, 0.3342, 1.0000, 0.0000],\n",
              "        [0.4565, 0.0000, 0.4879, 2.0000, 0.0000],\n",
              "        [0.5217, 1.0000, 0.2857, 0.0000, 1.0000],\n",
              "        [0.0000, 0.0000, 0.3612, 1.0000, 0.0000],\n",
              "        [0.1739, 1.0000, 0.0323, 2.0000, 1.0000],\n",
              "        [0.1957, 0.0000, 0.3369, 0.0000, 1.0000],\n",
              "        [0.3043, 0.0000, 0.5714, 2.0000, 0.0000],\n",
              "        [0.7826, 0.0000, 0.2561, 1.0000, 0.0000],\n",
              "        [0.6739, 0.0000, 0.3720, 1.0000, 0.0000],\n",
              "        [0.3913, 0.0000, 0.3693, 0.0000, 0.0000],\n",
              "        [0.8261, 1.0000, 0.3315, 0.0000, 0.0000],\n",
              "        [0.3043, 1.0000, 0.3477, 0.0000, 0.0000],\n",
              "        [0.6957, 0.0000, 0.4043, 3.0000, 0.0000],\n",
              "        [0.3913, 0.0000, 0.4960, 0.0000, 1.0000],\n",
              "        [0.7609, 0.0000, 0.3639, 0.0000, 0.0000],\n",
              "        [0.3043, 1.0000, 0.6765, 0.0000, 0.0000],\n",
              "        [0.5435, 1.0000, 0.4960, 3.0000, 0.0000],\n",
              "        [0.5217, 1.0000, 0.4636, 1.0000, 0.0000],\n",
              "        [0.0000, 1.0000, 0.5283, 0.0000, 0.0000],\n",
              "        [0.5870, 0.0000, 0.3423, 2.0000, 0.0000],\n",
              "        [0.6957, 1.0000, 0.2022, 2.0000, 0.0000],\n",
              "        [0.1304, 0.0000, 0.4501, 0.0000, 1.0000],\n",
              "        [0.2826, 0.0000, 0.4070, 3.0000, 0.0000],\n",
              "        [0.7174, 0.0000, 0.2534, 0.0000, 0.0000]])"
            ]
          },
          "metadata": {},
          "execution_count": 23
        }
      ]
    },
    {
      "cell_type": "markdown",
      "source": [
        "# Завдання 3\n",
        "Створіть нейромережу:\n",
        "* Кількість шарів оберіть між 1-5\n",
        "* Виберіть різні функції активації: Relu, LeakyRelu\n",
        "* Кілкість нейронів у прихованих шарах повинна **не зростати**"
      ],
      "metadata": {
        "id": "2W93LiDxfZrx"
      }
    },
    {
      "cell_type": "code",
      "source": [
        "from torch import nn\n",
        "\n",
        "model = nn.Sequential(\n",
        "    nn.Linear(5, 60),\n",
        "    nn.ReLU(),\n",
        "    nn.Linear(60, 30),\n",
        "    nn.ReLU(),\n",
        "    nn.Linear(30, 15),\n",
        "    nn.ReLU(),\n",
        "    nn.Linear(15, 1)\n",
        "\n",
        ")"
      ],
      "metadata": {
        "id": "p9DHog7Xf7xE"
      },
      "execution_count": 26,
      "outputs": []
    },
    {
      "cell_type": "markdown",
      "source": [
        "# Завдання 4\n",
        "Визначте функцію втрат та оптимізатор"
      ],
      "metadata": {
        "id": "VmNUVkkUf8gB"
      }
    },
    {
      "cell_type": "code",
      "source": [
        "loss_fn = nn.MSELoss()\n",
        "\n",
        "optimizer = torch.optim.Adam(model.parameters(), lr=0.01)"
      ],
      "metadata": {
        "id": "e1sw9oRBgDXR"
      },
      "execution_count": 27,
      "outputs": []
    },
    {
      "cell_type": "markdown",
      "source": [
        "# Завдання 5\n",
        "Натренуйте нейромережу. візміть невелику кількість епох"
      ],
      "metadata": {
        "id": "qTOFCl_egEFZ"
      }
    },
    {
      "cell_type": "code",
      "source": [
        "import numpy as np\n",
        "epoches = 5\n",
        "\n",
        "for i in range(epoches):\n",
        "  for X, y in loader:\n",
        "    y = y.to(device)\n",
        "    X = X.to(device)\n",
        "\n",
        "    y_pred = model(X)\n",
        "\n",
        "    loss = loss_fn(y_pred, y)\n",
        "\n",
        "    loss.backward() # рахуємо градієнти\n",
        "    optimizer.step()\n",
        "    optimizer.zero_grad()\n",
        "  print(loss.item())"
      ],
      "metadata": {
        "id": "Nxo4p3IUgOx5",
        "outputId": "6f363fff-ffc4-44f9-cd7e-94c790116265",
        "colab": {
          "base_uri": "https://localhost:8080/"
        }
      },
      "execution_count": 28,
      "outputs": [
        {
          "output_type": "stream",
          "name": "stdout",
          "text": [
            "0.018622737377882004\n",
            "0.008498131297528744\n",
            "0.008107743225991726\n",
            "0.007248610723763704\n",
            "0.0038457470946013927\n"
          ]
        }
      ]
    },
    {
      "cell_type": "code",
      "source": [
        "X, y = data[-1]\n",
        "model = model.to(\"cpu\")\n",
        "model(X)"
      ],
      "metadata": {
        "id": "dWFu8U8mkgss",
        "outputId": "11125f85-9432-4cac-9f7e-df0a9953571e",
        "colab": {
          "base_uri": "https://localhost:8080/"
        }
      },
      "execution_count": 29,
      "outputs": [
        {
          "output_type": "execute_result",
          "data": {
            "text/plain": [
              "tensor([0.5668], grad_fn=<ViewBackward0>)"
            ]
          },
          "metadata": {},
          "execution_count": 29
        }
      ]
    },
    {
      "cell_type": "code",
      "source": [
        "y"
      ],
      "metadata": {
        "id": "4WAbrhUrklxC",
        "outputId": "59f27eca-728c-426c-ad9d-07b0253f0290",
        "colab": {
          "base_uri": "https://localhost:8080/"
        }
      },
      "execution_count": 30,
      "outputs": [
        {
          "output_type": "execute_result",
          "data": {
            "text/plain": [
              "tensor([0.4472])"
            ]
          },
          "metadata": {},
          "execution_count": 30
        }
      ]
    },
    {
      "cell_type": "code",
      "source": [
        "\n",
        "with torch.no_grad():\n",
        "  X, y = data[-1]\n",
        "  y_pred = model(X)\n",
        "y_pred"
      ],
      "metadata": {
        "id": "3czMNBUukqj-",
        "outputId": "1fbd3734-d5c9-49a0-b9a8-65bea8e98536",
        "colab": {
          "base_uri": "https://localhost:8080/"
        }
      },
      "execution_count": 31,
      "outputs": [
        {
          "output_type": "execute_result",
          "data": {
            "text/plain": [
              "tensor([0.5668])"
            ]
          },
          "metadata": {},
          "execution_count": 31
        }
      ]
    },
    {
      "cell_type": "code",
      "source": [
        "from sklearn.metrics import r2_score\n",
        "y_pred = []\n",
        "y_ = []\n",
        "for X, y in data:\n",
        "  pred = model(X)\n",
        "  y_pred.append(pred.item())\n",
        "  y_.append(y)\n",
        "r2 = r2_score(y_, y_pred)\n",
        "r2"
      ],
      "metadata": {
        "id": "T9vZzc2KkziV",
        "outputId": "598abf3f-9647-4d5d-c413-10ced7ddd098",
        "colab": {
          "base_uri": "https://localhost:8080/"
        }
      },
      "execution_count": 32,
      "outputs": [
        {
          "output_type": "execute_result",
          "data": {
            "text/plain": [
              "0.839335696541675"
            ]
          },
          "metadata": {},
          "execution_count": 32
        }
      ]
    }
  ]
}